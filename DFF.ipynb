{
 "cells": [
  {
   "cell_type": "code",
   "execution_count": null,
   "metadata": {},
   "outputs": [],
   "source": [
    "import networkx as nx\n",
    "import matplotlib.pyplot as plt\n",
    "%matplotlib inline\n",
    "\n",
    "from dff.webdrivers import init_driver\n",
    "from dff.helpers import join_or_make, get_args, get_fb_id_from_url\n",
    "from dff.helpers import construct_social_graph, save_photos, save_friends_data\n",
    "from dff.scrapper import login, get_friends_section_url, make_friends_data\n",
    "from dff.scrapper import get_user_about_section_info, get_user_photos, get_friends\n",
    "from dff.scrapper import make_mutual_friends"
   ]
  },
  {
   "cell_type": "code",
   "execution_count": null,
   "metadata": {},
   "outputs": [],
   "source": [
    "conf = get_args('config.yml')\n",
    "\n",
    "print('init driver')\n",
    "# TODO: make all args accessible via dict notation\n",
    "driver = init_driver(conf['driver']['name'], conf['driver']['maximized'], \n",
    "    conf['driver']['headless'], conf['driver']['surpress_notifications'])\n",
    "\n",
    "print('logging to FB account')\n",
    "logged_in = login(driver, conf['base_url'], conf['auth']['fb_user'],\n",
    "    conf['auth']['fb_pass'], conf['user_folder'])\n",
    "\n",
    "if(logged_in):\n",
    "    friends_section_url = get_friends_section_url(driver, conf['base_url'])\n",
    "    print('Getting friends blocks')\n",
    "    friends_blocks = get_friends(driver, friends_section_url)\n",
    "\n",
    "    print('extracting data from friends blocks')\n",
    "    friends_data = make_friends_data(friends_blocks)\n",
    "    \n",
    "    for i, friend_data in enumerate(friends_data):\n",
    "        friends_data[i]['mutual_friends'] = make_mutual_friends(driver, friend_data['url'])\n",
    "\n",
    "    print('Saving friends data')\n",
    "    save_friends_data(friends_data, conf['user_folder'])\n",
    "\n",
    "    print('Download friends photos')\n",
    "    save_photos(friends_data, join_or_make(conf['user_folder'], 'friends_photos'), \n",
    "        suffix='.thumb')\n",
    "\n",
    "    print('Getting About user info')\n",
    "    print(get_user_about_section_info(driver))\n",
    "    \n",
    "    photos = get_user_photos(driver)\n",
    "\n",
    "    print('Getting photos available on photos section')\n",
    "    save_photos(photos, join_or_make(conf['user_folder'], 'photos'))\n",
    "    \n",
    "    print('constructing the social graph of the account')\n",
    "    friends_graph = construct_social_graph(conf['auth']['fb_user'], friends_data)\n",
    "    print(nx.info(friends_graph))\n",
    "    \n",
    "    plt.figure(3, figsize=(15, 10)) \n",
    "    plt.title('Graphe des amis')\n",
    "    nx.draw(friends_graph, with_labels=True)\n",
    "else:\n",
    "    print \"Couldn't login\""
   ]
  },
  {
   "cell_type": "code",
   "execution_count": null,
   "metadata": {},
   "outputs": [],
   "source": []
  }
 ],
 "metadata": {
  "kernelspec": {
   "display_name": "Python 2",
   "language": "python",
   "name": "python2"
  },
  "language_info": {
   "codemirror_mode": {
    "name": "ipython",
    "version": 2
   },
   "file_extension": ".py",
   "mimetype": "text/x-python",
   "name": "python",
   "nbconvert_exporter": "python",
   "pygments_lexer": "ipython2",
   "version": "2.7.12"
  }
 },
 "nbformat": 4,
 "nbformat_minor": 2
}
