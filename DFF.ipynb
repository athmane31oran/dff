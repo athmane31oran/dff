{
 "cells": [
  {
   "cell_type": "code",
   "execution_count": null,
   "metadata": {},
   "outputs": [],
   "source": [
    "import networkx as nx\n",
    "import matplotlib.pyplot as plt\n",
    "%matplotlib inline\n",
    "from os import path\n",
    "\n",
    "from dff.webdrivers import init_driver\n",
    "from dff.helpers import join_or_make, get_args, get_fb_id_from_url\n",
    "from dff.helpers import construct_social_graph, save_photos, save_friends_data\n",
    "from dff.scrapper import login, get_friends_section_url, make_friends_data\n",
    "from dff.scrapper import get_user_about_section_info, get_user_photos, get_friends\n",
    "from dff.scrapper import make_mutual_friends\n",
    "from dff.scrappers.about import AboutPage\n",
    "from dff.scrappers.login import Login\n",
    "from dff.scrappers.home import HomePage\n",
    "from dff.scrappers.friends import Friends"
   ]
  },
  {
   "cell_type": "code",
   "execution_count": 1,
   "metadata": {},
   "outputs": [],
   "source": [
    "import networkx as nx\n",
    "import matplotlib.pyplot as plt\n",
    "%matplotlib inline\n",
    "from os import path\n",
    "\n",
    "from dff.webdrivers import init_driver\n",
    "from dff.helpers import get_args\n",
    "from dff.scrappers.about import AboutPage\n",
    "from dff.scrappers.login import Login\n",
    "from dff.scrappers.home import HomePage\n",
    "from dff.scrappers.friends import Friends\n",
    "from dff.scrappers.photos import Photos"
   ]
  },
  {
   "cell_type": "code",
   "execution_count": 2,
   "metadata": {},
   "outputs": [
    {
     "name": "stdout",
     "output_type": "stream",
     "text": [
      "init driver\n"
     ]
    }
   ],
   "source": [
    "conf = get_args('config.yml')\n",
    "\n",
    "print('init driver')\n",
    "driver = init_driver(conf['driver']['name'], conf['driver']['maximized'], \n",
    "    conf['driver']['headless'], conf['driver']['surpress_notifications'])"
   ]
  },
  {
   "cell_type": "code",
   "execution_count": 3,
   "metadata": {},
   "outputs": [
    {
     "name": "stdout",
     "output_type": "stream",
     "text": [
      "{'logged_in': True}\n"
     ]
    }
   ],
   "source": [
    "login = Login(driver, conf['auth']['fb_user'], conf['auth']['fb_pass'], 'config/scrappers/login.yml', \n",
    "              debug=conf['debug'])\n",
    "login.start()\n",
    "print login.data"
   ]
  },
  {
   "cell_type": "code",
   "execution_count": 4,
   "metadata": {},
   "outputs": [
    {
     "name": "stdout",
     "output_type": "stream",
     "text": [
      "{'profile': {'url': u'https://www.facebook.com/athmane.oran', 'username': u'athmane.oran', 'name': u'Edit Athmane Oranais', 'id': u'1353966325'}}\n"
     ]
    }
   ],
   "source": [
    "screenshot_config = conf['screenshots']['home']\n",
    "screenshot_config['path'] = path.join(conf['user_folder'], conf['screenshots']['path'])\n",
    "home_page = HomePage(driver, screenshot_config, 'config/scrappers/home.yml', debug=conf['debug'])\n",
    "home_page.start()\n",
    "print home_page.data"
   ]
  },
  {
   "cell_type": "code",
   "execution_count": null,
   "metadata": {},
   "outputs": [],
   "source": [
    "about_page = AboutPage(driver, home_page.data['profile']['username'], 'config/scrappers/about.yml', \n",
    "                      debug=conf['debug'])\n",
    "about_page.start()\n",
    "print about_page.data"
   ]
  },
  {
   "cell_type": "code",
   "execution_count": null,
   "metadata": {},
   "outputs": [],
   "source": [
    "friends = Friends(driver, home_page.data['profile']['url'], 'config/scrappers/friends.yml', \n",
    "                  base_path=conf['user_folder'], debug=conf['debug'])\n",
    "friends.start()\n",
    "friends.save()\n",
    "print friends.data['friends'][0]"
   ]
  },
  {
   "cell_type": "code",
   "execution_count": 6,
   "metadata": {},
   "outputs": [
    {
     "name": "stdout",
     "output_type": "stream",
     "text": [
      "[{'img_url': u'https://fb-s-c-a.akamaihd.net/h-ak-fbx/v/t1.0-0/p206x206/12803098_10208834453362671_6902062495427226020_n.jpg?oh=324f7458c83cb9d0e74d1daf8cf5f4fc&oe=5ACB4E3A&__gda__=1522729294_7ce1547a406288ae4963573048e5df11', 'id': u'pic_10208834453362671', 'img_path': u'data/athmane.oran/photos/pic_10208834453362671.jpg'}, {'img_url': u'https://fb-s-b-a.akamaihd.net/h-ak-fbx/v/t1.0-0/p206x206/12472533_10208834442882409_2315754954566649144_n.jpg?oh=231ee884a094dc96e50ad6d0c4cfd078&oe=5A8BAD1F&__gda__=1523769451_45cc890bd07fa9b3f0f8237ba08de1a2', 'id': u'pic_10208834442882409', 'img_path': u'data/athmane.oran/photos/pic_10208834442882409.jpg'}, {'img_url': u'https://fb-s-c-a.akamaihd.net/h-ak-fbx/v/t1.0-0/p206x206/522456_10203103321887966_258849789_n.jpg?oh=a4add6c9a05589142549d86a16c0fa70&oe=5AD00CA7&__gda__=1519523630_4ff0a4667a37077ff164cfc01f9abbcd', 'id': u'pic_10203103321887966', 'img_path': u'data/athmane.oran/photos/pic_10203103321887966.jpg'}, {'img_url': u'https://fb-s-a-a.akamaihd.net/h-ak-fbx/v/t1.0-0/q84/p206x206/1531986_10203070900997464_99998344_n.jpg?oh=f9857048a46ac4da4d5b8d2ddeeb77cb&oe=5ACDDF67&__gda__=1519547086_73a3a37da2072a4e984999b01be0707c', 'id': u'pic_10203070900997464', 'img_path': u'data/athmane.oran/photos/pic_10203070900997464.jpg'}, {'img_url': u'https://fb-s-c-a.akamaihd.net/h-ak-fbx/v/t1.0-0/q81/p206x206/400586_10202757644846256_792993615_n.jpg?oh=a2047b4b269bcab411d05a720c76b78d&oe=5A93662B&__gda__=1519808130_519a3ab641a78fa7b22e09bc2ebb3b9d', 'id': u'pic_10202757644846256', 'img_path': u'data/athmane.oran/photos/pic_10202757644846256.jpg'}, {'img_url': u'https://fb-s-c-a.akamaihd.net/h-ak-fbx/v/t1.0-0/p206x206/307458_10200641877553396_415400224_n.jpg?oh=b4d69df3690bb561c4edf56e3e325579&oe=5ACB4206&__gda__=1523197839_0ba61a12def818c6c75474b44353e463', 'id': u'pic_10200641877553396', 'img_path': u'data/athmane.oran/photos/pic_10200641877553396.jpg'}, {'img_url': u'https://fb-s-b-a.akamaihd.net/h-ak-fbx/v/t1.0-0/p206x206/76931_10200412715824496_207119655_n.jpg?oh=2f1baa222d989ceb8b42e13293c0a5e2&oe=5ACB8038&__gda__=1523690286_a43ff157f5bc849f659ed0d7a086b688', 'id': u'pic_10200412715824496', 'img_path': u'data/athmane.oran/photos/pic_10200412715824496.jpg'}, {'img_url': u'https://scontent-mrs1-1.xx.fbcdn.net/v/t1.0-0/p206x206/27982_1441213554369_812020_n.jpg?oh=bb6833c3f7453be5c9f8974841d71f84&oe=5AC78558', 'id': u'pic_1441213554369', 'img_path': u'data/athmane.oran/photos/pic_1441213554369.jpg'}, {'img_url': u'https://fb-s-d-a.akamaihd.net/h-ak-fbx/v/t1.0-0/p206x206/27982_1441213514368_4124616_n.jpg?oh=77188e1f7549c16d8641e72b73034134&oe=5A9862E2&__gda__=1523397731_9d9ce699e29cee92f57d26335f76a86a', 'id': u'pic_1441213514368', 'img_path': u'data/athmane.oran/photos/pic_1441213514368.jpg'}, {'img_url': u'https://fb-s-b-a.akamaihd.net/h-ak-fbx/v/t1.0-0/p206x206/27982_1441213434366_3728594_n.jpg?oh=a0817297e4a5945be6eca292a0b9e7fe&oe=5A98914F&__gda__=1523363534_08e2216207b56e53fb770b1075271f04', 'id': u'pic_1441213434366', 'img_path': u'data/athmane.oran/photos/pic_1441213434366.jpg'}, {'img_url': u'https://scontent-mrs1-1.xx.fbcdn.net/v/t1.0-0/p206x206/27982_1441213394365_3120650_n.jpg?oh=49cde9b38cc2d267fc23ea180ca0b72a&oe=5A8E9A5C', 'id': u'pic_1441213394365', 'img_path': u'data/athmane.oran/photos/pic_1441213394365.jpg'}, {'img_url': u'https://scontent-mrs1-1.xx.fbcdn.net/v/t1.0-0/p206x206/27982_1441213354364_2045453_n.jpg?oh=412117aaf35ffd3212f4189e1e51a1f9&oe=5A916325', 'id': u'pic_1441213354364', 'img_path': u'data/athmane.oran/photos/pic_1441213354364.jpg'}]\n"
     ]
    }
   ],
   "source": [
    "photos = Photos(driver, home_page.data['profile']['url'], 'config/scrappers/photos.yml', \n",
    "                  base_path=conf['user_folder'], debug=conf['debug'])\n",
    "photos.start()\n",
    "photos.save()\n",
    "print photos.data['photos']"
   ]
  },
  {
   "cell_type": "code",
   "execution_count": null,
   "metadata": {},
   "outputs": [],
   "source": [
    "conf = get_args('config.yml')\n",
    "\n",
    "print('init driver')\n",
    "# TODO: make all args accessible via dict notation\n",
    "driver = init_driver(conf['driver']['name'], conf['driver']['maximized'], \n",
    "    conf['driver']['headless'], conf['driver']['surpress_notifications'])\n",
    "\n",
    "print('logging to FB account')\n",
    "logged_in = login(driver, conf['base_url'], conf['auth']['fb_user'],\n",
    "    conf['auth']['fb_pass'], conf['user_folder'])\n",
    "\n",
    "if(logged_in):\n",
    "    friends_section_url = get_friends_section_url(driver, conf['base_url'])\n",
    "    print('Getting friends blocks')\n",
    "    friends_blocks = get_friends(driver, friends_section_url)\n",
    "\n",
    "    print('extracting data from friends blocks')\n",
    "    friends_data = make_friends_data(friends_blocks)\n",
    "    \n",
    "    for i, friend_data in enumerate(friends_data):\n",
    "        friends_data[i]['mutual_friends'] = make_mutual_friends(driver, friend_data['url'])\n",
    "\n",
    "    print('Saving friends data')\n",
    "    save_friends_data(friends_data, conf['user_folder'])\n",
    "\n",
    "    print('Download friends photos')\n",
    "    save_photos(friends_data, join_or_make(conf['user_folder'], 'friends_photos'), \n",
    "        suffix='.thumb')\n",
    "\n",
    "    print('Getting About user info')\n",
    "    print(get_user_about_section_info(driver))\n",
    "    \n",
    "    photos = get_user_photos(driver)\n",
    "\n",
    "    print('Getting photos available on photos section')\n",
    "    save_photos(photos, join_or_make(conf['user_folder'], 'photos'))\n",
    "    \n",
    "    print('constructing the social graph of the account')\n",
    "    friends_graph = construct_social_graph(conf['auth']['fb_user'], friends_data)\n",
    "    print(nx.info(friends_graph))\n",
    "    \n",
    "    plt.figure(3, figsize=(15, 10)) \n",
    "    plt.title('Graphe des amis')\n",
    "    nx.draw(friends_graph, with_labels=True)\n",
    "else:\n",
    "    print \"Couldn't login\""
   ]
  },
  {
   "cell_type": "code",
   "execution_count": null,
   "metadata": {},
   "outputs": [],
   "source": [
    "d['b']"
   ]
  },
  {
   "cell_type": "code",
   "execution_count": null,
   "metadata": {},
   "outputs": [],
   "source": []
  }
 ],
 "metadata": {
  "kernelspec": {
   "display_name": "Python 2",
   "language": "python",
   "name": "python2"
  },
  "language_info": {
   "codemirror_mode": {
    "name": "ipython",
    "version": 2
   },
   "file_extension": ".py",
   "mimetype": "text/x-python",
   "name": "python",
   "nbconvert_exporter": "python",
   "pygments_lexer": "ipython2",
   "version": "2.7.12"
  }
 },
 "nbformat": 4,
 "nbformat_minor": 2
}
